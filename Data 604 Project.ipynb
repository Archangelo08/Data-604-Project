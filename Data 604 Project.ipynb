{
 "cells": [
  {
   "cell_type": "markdown",
   "metadata": {},
   "source": [
    "# Data 604 L01:12 Project\n",
    "# US Traffic Accidents "
   ]
  },
  {
   "cell_type": "markdown",
   "metadata": {},
   "source": [
    "## Introduction"
   ]
  },
  {
   "cell_type": "markdown",
   "metadata": {},
   "source": [
    "Road accidents have been increasing worldwide and are the cause of millions of deaths each year; according to the World Health Organization (WHO), each year there are approximately 1.35 million road accidents that cause serious injuries to between 20 to 50 million people worldwide.\n",
    "\n",
    "Besides the road accident prevention policies, it is important to accurately understand and analyze the contributing factors of road accidents and their impacts to design safer roads and devise strategies to prevent further accidents.\n"
   ]
  },
  {
   "cell_type": "markdown",
   "metadata": {},
   "source": [
    "## Guiding Question"
   ]
  },
  {
   "cell_type": "markdown",
   "metadata": {},
   "source": [
    "To understand the differenct factors that attribute to Traffic Accidents, we defined the following guiding questions:\n",
    "1. Which States/Cities that register more accidents?\n",
    "2. What are the months with the highest number of accidents? Could this be related to Weather?\n",
    "3. Is there a relationship between the age of the driver and accidents?\n",
    "4. Is there a relationship between population and the number of accidents?"
   ]
  },
  {
   "cell_type": "markdown",
   "metadata": {},
   "source": [
    "## Dataset"
   ]
  },
  {
   "cell_type": "markdown",
   "metadata": {},
   "source": [
    "## Data Exploration"
   ]
  },
  {
   "cell_type": "markdown",
   "metadata": {},
   "source": [
    "What are the things I need to do here?\n",
    "* I'm going to load the accident tables from 2016-2019 into our shared database. Use the selected columns in your Individual milestone.\n",
    "* After, load the Person tables from 2016-2019. Use the selected columns in your Individual Milestone.\n",
    "* Can you try to connect to the shared database using MySQL Workbench.\n"
   ]
  },
  {
   "cell_type": "markdown",
   "metadata": {},
   "source": [
    "Loading the Accidents table from 2016 - 2019 into the shared database:"
   ]
  },
  {
   "cell_type": "code",
   "execution_count": null,
   "metadata": {
    "vscode": {
     "languageId": "plaintext"
    }
   },
   "outputs": [],
   "source": [
    "Accident_columns = "
   ]
  }
 ],
 "metadata": {
  "kernelspec": {
   "display_name": "base",
   "language": "python",
   "name": "python3"
  },
  "language_info": {
   "name": "python",
   "version": "3.9.12"
  },
  "orig_nbformat": 4
 },
 "nbformat": 4,
 "nbformat_minor": 2
}
